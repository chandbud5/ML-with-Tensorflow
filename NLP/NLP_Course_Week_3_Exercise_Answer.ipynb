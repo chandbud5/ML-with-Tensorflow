{
  "nbformat": 4,
  "nbformat_minor": 0,
  "metadata": {
    "accelerator": "GPU",
    "colab": {
      "name": "NLP Course - Week 3 Exercise Answer.ipynb",
      "provenance": [],
      "toc_visible": true
    },
    "kernelspec": {
      "display_name": "Python 3",
      "name": "python3"
    }
  },
  "cells": [
    {
      "cell_type": "code",
      "metadata": {
        "id": "zX4Kg8DUTKWO",
        "colab_type": "code",
        "colab": {}
      },
      "source": [
        "#@title Licensed under the Apache License, Version 2.0 (the \"License\");\n",
        "# you may not use this file except in compliance with the License.\n",
        "# You may obtain a copy of the License at\n",
        "#\n",
        "# https://www.apache.org/licenses/LICENSE-2.0\n",
        "#\n",
        "# Unless required by applicable law or agreed to in writing, software\n",
        "# distributed under the License is distributed on an \"AS IS\" BASIS,\n",
        "# WITHOUT WARRANTIES OR CONDITIONS OF ANY KIND, either express or implied.\n",
        "# See the License for the specific language governing permissions and\n",
        "# limitations under the License."
      ],
      "execution_count": 0,
      "outputs": []
    },
    {
      "cell_type": "code",
      "metadata": {
        "colab_type": "code",
        "id": "hmA6EzkQJ5jt",
        "colab": {}
      },
      "source": [
        "import json\n",
        "import tensorflow as tf\n",
        "import csv\n",
        "import random\n",
        "import numpy as np\n",
        "\n",
        "from tensorflow.keras.preprocessing.text import Tokenizer\n",
        "from tensorflow.keras.preprocessing.sequence import pad_sequences\n",
        "from tensorflow.keras.utils import to_categorical\n",
        "from tensorflow.keras import regularizers\n",
        "\n",
        "\n",
        "embedding_dim = 100\n",
        "max_length = 16\n",
        "trunc_type='post'\n",
        "padding_type='post'\n",
        "oov_tok = \"<OOV>\"\n",
        "training_size=160000\n",
        "test_portion=.1\n",
        "\n",
        "corpus = []\n"
      ],
      "execution_count": 0,
      "outputs": []
    },
    {
      "cell_type": "code",
      "metadata": {
        "colab_type": "code",
        "id": "bM0l_dORKqE0",
        "outputId": "84e23196-fd1f-4ea2-c3c7-8fbff04a66db",
        "colab": {
          "base_uri": "https://localhost:8080/",
          "height": 204
        }
      },
      "source": [
        "# Note that I cleaned the Stanford dataset to remove LATIN1 encoding to make it easier for Python CSV reader\n",
        "# You can do that yourself with:\n",
        "# iconv -f LATIN1 -t UTF8 training.1600000.processed.noemoticon.csv -o training_cleaned.csv\n",
        "# I then hosted it on my site to make it easier to use in this notebook\n",
        "\n",
        "!wget --no-check-certificate \\\n",
        "    https://storage.googleapis.com/laurencemoroney-blog.appspot.com/training_cleaned.csv \\\n",
        "    -O /tmp/training_cleaned.csv\n",
        "\n",
        "num_sentences = 0\n",
        "\n",
        "with open(\"/tmp/training_cleaned.csv\") as csvfile:\n",
        "    reader = csv.reader(csvfile, delimiter=',')\n",
        "    for row in reader:\n",
        "        list_item=[]\n",
        "        list_item.append(row[5])\n",
        "        this_label=row[0]\n",
        "        if this_label=='0':\n",
        "            list_item.append(0)\n",
        "        else:\n",
        "            list_item.append(1)\n",
        "        num_sentences = num_sentences + 1\n",
        "        corpus.append(list_item)\n"
      ],
      "execution_count": 3,
      "outputs": [
        {
          "output_type": "stream",
          "text": [
            "--2020-06-09 12:24:44--  https://storage.googleapis.com/laurencemoroney-blog.appspot.com/training_cleaned.csv\n",
            "Resolving storage.googleapis.com (storage.googleapis.com)... 172.217.9.208, 2607:f8b0:4004:809::2010\n",
            "Connecting to storage.googleapis.com (storage.googleapis.com)|172.217.9.208|:443... connected.\n",
            "HTTP request sent, awaiting response... 200 OK\n",
            "Length: 238942690 (228M) [application/octet-stream]\n",
            "Saving to: ‘/tmp/training_cleaned.csv’\n",
            "\n",
            "/tmp/training_clean 100%[===================>] 227.87M  59.2MB/s    in 3.9s    \n",
            "\n",
            "2020-06-09 12:24:48 (59.2 MB/s) - ‘/tmp/training_cleaned.csv’ saved [238942690/238942690]\n",
            "\n"
          ],
          "name": "stdout"
        }
      ]
    },
    {
      "cell_type": "code",
      "metadata": {
        "colab_type": "code",
        "id": "3kxblBUjEUX-",
        "outputId": "aba21d88-25d8-44e6-8d84-017f144d07ca",
        "colab": {
          "base_uri": "https://localhost:8080/",
          "height": 68
        }
      },
      "source": [
        "print(num_sentences)\n",
        "print(len(corpus))\n",
        "print(corpus[1])\n",
        "\n",
        "# Expected Output:\n",
        "# 1600000\n",
        "# 1600000\n",
        "# [\"is upset that he can't update his Facebook by texting it... and might cry as a result  School today also. Blah!\", 0]"
      ],
      "execution_count": 4,
      "outputs": [
        {
          "output_type": "stream",
          "text": [
            "1600000\n",
            "1600000\n",
            "[\"is upset that he can't update his Facebook by texting it... and might cry as a result  School today also. Blah!\", 0]\n"
          ],
          "name": "stdout"
        }
      ]
    },
    {
      "cell_type": "code",
      "metadata": {
        "colab_type": "code",
        "id": "ohOGz24lsNAD",
        "colab": {}
      },
      "source": [
        "sentences=[]\n",
        "labels=[]\n",
        "random.shuffle(corpus)\n",
        "for x in range(training_size):\n",
        "    sentences.append(corpus[x][0])\n",
        "    labels.append(corpus[x][1])\n",
        "\n",
        "\n",
        "tokenizer = Tokenizer()\n",
        "tokenizer.fit_on_texts(sentences)\n",
        "\n",
        "word_index = tokenizer.word_index\n",
        "vocab_size=len(word_index)\n",
        "\n",
        "sequences = tokenizer.texts_to_sequences(sentences)\n",
        "padded = pad_sequences(sequences, maxlen=max_length, padding=padding_type, truncating=trunc_type)\n",
        "\n",
        "split = int(test_portion * training_size)\n",
        "\n",
        "test_sequences = np.array(padded[0:split])\n",
        "training_sequences = np.array(padded[split:training_size])\n",
        "test_labels = np.array(labels[0:split])\n",
        "training_labels = np.array(labels[split:training_size])"
      ],
      "execution_count": 0,
      "outputs": []
    },
    {
      "cell_type": "code",
      "metadata": {
        "colab_type": "code",
        "id": "gIrtRem1En3N",
        "outputId": "81af1ce5-eeed-4879-a49e-76af86720947",
        "colab": {
          "base_uri": "https://localhost:8080/",
          "height": 51
        }
      },
      "source": [
        "print(vocab_size)\n",
        "print(word_index['i'])\n",
        "# Expected Output\n",
        "# 138858\n",
        "# 1"
      ],
      "execution_count": 11,
      "outputs": [
        {
          "output_type": "stream",
          "text": [
            "138110\n",
            "1\n"
          ],
          "name": "stdout"
        }
      ]
    },
    {
      "cell_type": "code",
      "metadata": {
        "colab_type": "code",
        "id": "C1zdgJkusRh0",
        "outputId": "a3c8c21b-dad8-40ac-9650-eedd080a6714",
        "colab": {
          "base_uri": "https://localhost:8080/",
          "height": 204
        }
      },
      "source": [
        "# Note this is the 100 dimension version of GloVe from Stanford\n",
        "# I unzipped and hosted it on my site to make this notebook easier\n",
        "!wget --no-check-certificate \\\n",
        "    https://storage.googleapis.com/laurencemoroney-blog.appspot.com/glove.6B.100d.txt \\\n",
        "    -O /tmp/glove.6B.100d.txt\n",
        "embeddings_index = {};\n",
        "with open('/tmp/glove.6B.100d.txt') as f:\n",
        "    for line in f:\n",
        "        values = line.split();\n",
        "        word = values[0];\n",
        "        coefs = np.asarray(values[1:], dtype='float32');\n",
        "        embeddings_index[word] = coefs;\n",
        "\n",
        "embeddings_matrix = np.zeros((vocab_size+1, embedding_dim));\n",
        "for word, i in word_index.items():\n",
        "    embedding_vector = embeddings_index.get(word);\n",
        "    if embedding_vector is not None:\n",
        "        embeddings_matrix[i] = embedding_vector;"
      ],
      "execution_count": 12,
      "outputs": [
        {
          "output_type": "stream",
          "text": [
            "--2020-06-09 12:28:18--  https://storage.googleapis.com/laurencemoroney-blog.appspot.com/glove.6B.100d.txt\n",
            "Resolving storage.googleapis.com (storage.googleapis.com)... 172.253.63.128, 2607:f8b0:4004:806::2010\n",
            "Connecting to storage.googleapis.com (storage.googleapis.com)|172.253.63.128|:443... connected.\n",
            "HTTP request sent, awaiting response... 200 OK\n",
            "Length: 347116733 (331M) [text/plain]\n",
            "Saving to: ‘/tmp/glove.6B.100d.txt’\n",
            "\n",
            "/tmp/glove.6B.100d. 100%[===================>] 331.04M  93.1MB/s    in 3.6s    \n",
            "\n",
            "2020-06-09 12:28:22 (91.2 MB/s) - ‘/tmp/glove.6B.100d.txt’ saved [347116733/347116733]\n",
            "\n"
          ],
          "name": "stdout"
        }
      ]
    },
    {
      "cell_type": "code",
      "metadata": {
        "colab_type": "code",
        "id": "71NLk_lpFLNt",
        "outputId": "91983dbd-d0b4-4f31-dbd7-58771f208eaa",
        "colab": {
          "base_uri": "https://localhost:8080/",
          "height": 34
        }
      },
      "source": [
        "print(len(embeddings_matrix))\n",
        "# Expected Output\n",
        "# 138859"
      ],
      "execution_count": 13,
      "outputs": [
        {
          "output_type": "stream",
          "text": [
            "138111\n"
          ],
          "name": "stdout"
        }
      ]
    },
    {
      "cell_type": "code",
      "metadata": {
        "colab_type": "code",
        "id": "iKKvbuEBOGFz",
        "colab": {
          "base_uri": "https://localhost:8080/",
          "height": 1000
        },
        "outputId": "29506977-6ae4-44dd-8a3d-549d34b27f13"
      },
      "source": [
        "model = tf.keras.Sequential([\n",
        "    tf.keras.layers.Embedding(vocab_size+1, embedding_dim, input_length=max_length, weights=[embeddings_matrix], trainable=False),\n",
        "    tf.keras.layers.Dropout(0.2),\n",
        "    tf.keras.layers.Conv1D(64, 5, activation='relu'),\n",
        "    tf.keras.layers.MaxPooling1D(pool_size=4),\n",
        "    tf.keras.layers.LSTM(64),\n",
        "    tf.keras.layers.Dense(1, activation='sigmoid')\n",
        "])\n",
        "model.compile(loss='binary_crossentropy',optimizer='adam',metrics=['accuracy'])\n",
        "model.summary()\n",
        "\n",
        "num_epochs = 50\n",
        "history = model.fit(training_sequences, training_labels, epochs=num_epochs, validation_data=(test_sequences, test_labels), verbose=2)\n",
        "\n",
        "print(\"Training Complete\")\n"
      ],
      "execution_count": 14,
      "outputs": [
        {
          "output_type": "stream",
          "text": [
            "Model: \"sequential_1\"\n",
            "_________________________________________________________________\n",
            "Layer (type)                 Output Shape              Param #   \n",
            "=================================================================\n",
            "embedding_1 (Embedding)      (None, 16, 100)           13811100  \n",
            "_________________________________________________________________\n",
            "dropout_1 (Dropout)          (None, 16, 100)           0         \n",
            "_________________________________________________________________\n",
            "conv1d_1 (Conv1D)            (None, 12, 64)            32064     \n",
            "_________________________________________________________________\n",
            "max_pooling1d_1 (MaxPooling1 (None, 3, 64)             0         \n",
            "_________________________________________________________________\n",
            "lstm_1 (LSTM)                (None, 64)                33024     \n",
            "_________________________________________________________________\n",
            "dense_1 (Dense)              (None, 1)                 65        \n",
            "=================================================================\n",
            "Total params: 13,876,253\n",
            "Trainable params: 65,153\n",
            "Non-trainable params: 13,811,100\n",
            "_________________________________________________________________\n",
            "Epoch 1/50\n",
            "4500/4500 - 16s - loss: 0.5681 - accuracy: 0.6986 - val_loss: 0.5249 - val_accuracy: 0.7381\n",
            "Epoch 2/50\n",
            "4500/4500 - 15s - loss: 0.5278 - accuracy: 0.7315 - val_loss: 0.5135 - val_accuracy: 0.7424\n",
            "Epoch 3/50\n",
            "4500/4500 - 15s - loss: 0.5114 - accuracy: 0.7430 - val_loss: 0.5084 - val_accuracy: 0.7444\n",
            "Epoch 4/50\n",
            "4500/4500 - 15s - loss: 0.4991 - accuracy: 0.7526 - val_loss: 0.5079 - val_accuracy: 0.7484\n",
            "Epoch 5/50\n",
            "4500/4500 - 15s - loss: 0.4911 - accuracy: 0.7571 - val_loss: 0.5121 - val_accuracy: 0.7512\n",
            "Epoch 6/50\n",
            "4500/4500 - 15s - loss: 0.4841 - accuracy: 0.7609 - val_loss: 0.5004 - val_accuracy: 0.7521\n",
            "Epoch 7/50\n",
            "4500/4500 - 15s - loss: 0.4790 - accuracy: 0.7657 - val_loss: 0.5018 - val_accuracy: 0.7548\n",
            "Epoch 8/50\n",
            "4500/4500 - 15s - loss: 0.4734 - accuracy: 0.7679 - val_loss: 0.4981 - val_accuracy: 0.7538\n",
            "Epoch 9/50\n",
            "4500/4500 - 15s - loss: 0.4691 - accuracy: 0.7718 - val_loss: 0.5024 - val_accuracy: 0.7554\n",
            "Epoch 10/50\n",
            "4500/4500 - 15s - loss: 0.4652 - accuracy: 0.7736 - val_loss: 0.5017 - val_accuracy: 0.7553\n",
            "Epoch 11/50\n",
            "4500/4500 - 16s - loss: 0.4623 - accuracy: 0.7756 - val_loss: 0.5040 - val_accuracy: 0.7546\n",
            "Epoch 12/50\n",
            "4500/4500 - 15s - loss: 0.4585 - accuracy: 0.7771 - val_loss: 0.5017 - val_accuracy: 0.7533\n",
            "Epoch 13/50\n",
            "4500/4500 - 15s - loss: 0.4556 - accuracy: 0.7797 - val_loss: 0.5018 - val_accuracy: 0.7534\n",
            "Epoch 14/50\n",
            "4500/4500 - 16s - loss: 0.4536 - accuracy: 0.7808 - val_loss: 0.5024 - val_accuracy: 0.7530\n",
            "Epoch 15/50\n",
            "4500/4500 - 15s - loss: 0.4497 - accuracy: 0.7839 - val_loss: 0.5060 - val_accuracy: 0.7518\n",
            "Epoch 16/50\n",
            "4500/4500 - 15s - loss: 0.4474 - accuracy: 0.7837 - val_loss: 0.5070 - val_accuracy: 0.7544\n",
            "Epoch 17/50\n",
            "4500/4500 - 15s - loss: 0.4487 - accuracy: 0.7847 - val_loss: 0.5024 - val_accuracy: 0.7567\n",
            "Epoch 18/50\n",
            "4500/4500 - 15s - loss: 0.4459 - accuracy: 0.7849 - val_loss: 0.5069 - val_accuracy: 0.7589\n",
            "Epoch 19/50\n",
            "4500/4500 - 15s - loss: 0.4440 - accuracy: 0.7868 - val_loss: 0.5100 - val_accuracy: 0.7589\n",
            "Epoch 20/50\n",
            "4500/4500 - 15s - loss: 0.4433 - accuracy: 0.7865 - val_loss: 0.5118 - val_accuracy: 0.7549\n",
            "Epoch 21/50\n",
            "4500/4500 - 15s - loss: 0.4411 - accuracy: 0.7894 - val_loss: 0.5136 - val_accuracy: 0.7491\n",
            "Epoch 22/50\n",
            "4500/4500 - 15s - loss: 0.4409 - accuracy: 0.7881 - val_loss: 0.5070 - val_accuracy: 0.7524\n",
            "Epoch 23/50\n",
            "4500/4500 - 15s - loss: 0.4393 - accuracy: 0.7896 - val_loss: 0.5074 - val_accuracy: 0.7553\n",
            "Epoch 24/50\n",
            "4500/4500 - 15s - loss: 0.4391 - accuracy: 0.7888 - val_loss: 0.5109 - val_accuracy: 0.7502\n",
            "Epoch 25/50\n",
            "4500/4500 - 16s - loss: 0.4386 - accuracy: 0.7895 - val_loss: 0.5077 - val_accuracy: 0.7552\n",
            "Epoch 26/50\n",
            "4500/4500 - 16s - loss: 0.4376 - accuracy: 0.7907 - val_loss: 0.5171 - val_accuracy: 0.7524\n",
            "Epoch 27/50\n",
            "4500/4500 - 16s - loss: 0.4373 - accuracy: 0.7902 - val_loss: 0.5138 - val_accuracy: 0.7514\n",
            "Epoch 28/50\n",
            "4500/4500 - 16s - loss: 0.4358 - accuracy: 0.7903 - val_loss: 0.5109 - val_accuracy: 0.7518\n",
            "Epoch 29/50\n",
            "4500/4500 - 15s - loss: 0.4343 - accuracy: 0.7917 - val_loss: 0.5193 - val_accuracy: 0.7538\n",
            "Epoch 30/50\n",
            "4500/4500 - 15s - loss: 0.4361 - accuracy: 0.7908 - val_loss: 0.5128 - val_accuracy: 0.7523\n",
            "Epoch 31/50\n",
            "4500/4500 - 16s - loss: 0.4323 - accuracy: 0.7933 - val_loss: 0.5093 - val_accuracy: 0.7552\n",
            "Epoch 32/50\n",
            "4500/4500 - 16s - loss: 0.4337 - accuracy: 0.7935 - val_loss: 0.5105 - val_accuracy: 0.7551\n",
            "Epoch 33/50\n",
            "4500/4500 - 15s - loss: 0.4343 - accuracy: 0.7922 - val_loss: 0.5152 - val_accuracy: 0.7515\n",
            "Epoch 34/50\n",
            "4500/4500 - 16s - loss: 0.4316 - accuracy: 0.7932 - val_loss: 0.5137 - val_accuracy: 0.7549\n",
            "Epoch 35/50\n",
            "4500/4500 - 16s - loss: 0.4311 - accuracy: 0.7942 - val_loss: 0.5224 - val_accuracy: 0.7535\n",
            "Epoch 36/50\n",
            "4500/4500 - 15s - loss: 0.4312 - accuracy: 0.7938 - val_loss: 0.5156 - val_accuracy: 0.7517\n",
            "Epoch 37/50\n",
            "4500/4500 - 15s - loss: 0.4310 - accuracy: 0.7948 - val_loss: 0.5177 - val_accuracy: 0.7541\n",
            "Epoch 38/50\n",
            "4500/4500 - 15s - loss: 0.4297 - accuracy: 0.7947 - val_loss: 0.5192 - val_accuracy: 0.7524\n",
            "Epoch 39/50\n",
            "4500/4500 - 15s - loss: 0.4309 - accuracy: 0.7947 - val_loss: 0.5161 - val_accuracy: 0.7493\n",
            "Epoch 40/50\n",
            "4500/4500 - 15s - loss: 0.4296 - accuracy: 0.7949 - val_loss: 0.5150 - val_accuracy: 0.7526\n",
            "Epoch 41/50\n",
            "4500/4500 - 15s - loss: 0.4292 - accuracy: 0.7952 - val_loss: 0.5224 - val_accuracy: 0.7541\n",
            "Epoch 42/50\n",
            "4500/4500 - 15s - loss: 0.4301 - accuracy: 0.7943 - val_loss: 0.5170 - val_accuracy: 0.7511\n",
            "Epoch 43/50\n",
            "4500/4500 - 15s - loss: 0.4282 - accuracy: 0.7962 - val_loss: 0.5221 - val_accuracy: 0.7511\n",
            "Epoch 44/50\n",
            "4500/4500 - 15s - loss: 0.4279 - accuracy: 0.7962 - val_loss: 0.5188 - val_accuracy: 0.7531\n",
            "Epoch 45/50\n",
            "4500/4500 - 15s - loss: 0.4296 - accuracy: 0.7954 - val_loss: 0.5188 - val_accuracy: 0.7524\n",
            "Epoch 46/50\n",
            "4500/4500 - 15s - loss: 0.4298 - accuracy: 0.7958 - val_loss: 0.5148 - val_accuracy: 0.7503\n",
            "Epoch 47/50\n",
            "4500/4500 - 15s - loss: 0.4270 - accuracy: 0.7968 - val_loss: 0.5112 - val_accuracy: 0.7517\n",
            "Epoch 48/50\n",
            "4500/4500 - 15s - loss: 0.4264 - accuracy: 0.7981 - val_loss: 0.5152 - val_accuracy: 0.7511\n",
            "Epoch 49/50\n",
            "4500/4500 - 15s - loss: 0.4280 - accuracy: 0.7960 - val_loss: 0.5209 - val_accuracy: 0.7536\n",
            "Epoch 50/50\n",
            "4500/4500 - 15s - loss: 0.4264 - accuracy: 0.7965 - val_loss: 0.5230 - val_accuracy: 0.7519\n",
            "Training Complete\n"
          ],
          "name": "stdout"
        }
      ]
    },
    {
      "cell_type": "code",
      "metadata": {
        "colab_type": "code",
        "id": "qxju4ItJKO8F",
        "colab": {
          "base_uri": "https://localhost:8080/",
          "height": 607
        },
        "outputId": "3996ea39-9fed-4b9c-c46c-5fb216252ae4"
      },
      "source": [
        "import matplotlib.image  as mpimg\n",
        "import matplotlib.pyplot as plt\n",
        "\n",
        "#-----------------------------------------------------------\n",
        "# Retrieve a list of list results on training and test data\n",
        "# sets for each training epoch\n",
        "#-----------------------------------------------------------\n",
        "acc=history.history['accuracy']\n",
        "val_acc=history.history['val_accuracy']\n",
        "loss=history.history['loss']\n",
        "val_loss=history.history['val_loss']\n",
        "\n",
        "epochs=range(len(acc)) # Get number of epochs\n",
        "\n",
        "#------------------------------------------------\n",
        "# Plot training and validation accuracy per epoch\n",
        "#------------------------------------------------\n",
        "plt.plot(epochs, acc, 'r')\n",
        "plt.plot(epochs, val_acc, 'b')\n",
        "plt.title('Training and validation accuracy')\n",
        "plt.xlabel(\"Epochs\")\n",
        "plt.ylabel(\"Accuracy\")\n",
        "plt.legend([\"Accuracy\", \"Validation Accuracy\"])\n",
        "\n",
        "plt.figure()\n",
        "\n",
        "#------------------------------------------------\n",
        "# Plot training and validation loss per epoch\n",
        "#------------------------------------------------\n",
        "plt.plot(epochs, loss, 'r')\n",
        "plt.plot(epochs, val_loss, 'b')\n",
        "plt.title('Training and validation loss')\n",
        "plt.xlabel(\"Epochs\")\n",
        "plt.ylabel(\"Loss\")\n",
        "plt.legend([\"Loss\", \"Validation Loss\"])\n",
        "\n",
        "plt.figure()\n",
        "\n",
        "\n",
        "# Expected Output\n",
        "# A chart where the validation loss does not increase sharply!"
      ],
      "execution_count": 15,
      "outputs": [
        {
          "output_type": "execute_result",
          "data": {
            "text/plain": [
              "<Figure size 432x288 with 0 Axes>"
            ]
          },
          "metadata": {
            "tags": []
          },
          "execution_count": 15
        },
        {
          "output_type": "display_data",
          "data": {
            "image/png": "[encoded data removed]",
            "text/plain": [
              "<Figure size 432x288 with 1 Axes>"
            ]
          },
          "metadata": {
            "tags": [],
            "needs_background": "light"
          }
        },
        {
          "output_type": "display_data",
          "data": {
            "image/png": "[encoded data removed]",
            "text/plain": [
              "<Figure size 432x288 with 1 Axes>"
            ]
          },
          "metadata": {
            "tags": [],
            "needs_background": "light"
          }
        },
        {
          "output_type": "display_data",
          "data": {
            "text/plain": [
              "<Figure size 432x288 with 0 Axes>"
            ]
          },
          "metadata": {
            "tags": []
          }
        }
      ]
    },
    {
      "cell_type": "code",
      "metadata": {
        "id": "8Jnm2gunGf5z",
        "colab_type": "code",
        "colab": {}
      },
      "source": [
        ""
      ],
      "execution_count": 0,
      "outputs": []
    }
  ]
}